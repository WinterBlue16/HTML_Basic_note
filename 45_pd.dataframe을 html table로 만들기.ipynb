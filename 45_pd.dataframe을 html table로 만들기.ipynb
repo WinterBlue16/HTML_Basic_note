{
 "cells": [
  {
   "cell_type": "markdown",
   "metadata": {},
   "source": [
    "# pd.dataframe을 html table로 만들기\n",
    "> django로 웹 페이지를 만들 때, 파이썬으로 짠 dataframe을 html로 고스란히 보내고 싶을 때가 있다. 표를 통째로 html table 태그에 담긴 형태로 변환하고 싶을 때 to_html을 사용할 수 있다."
   ]
  },
  {
   "cell_type": "code",
   "execution_count": 1,
   "metadata": {},
   "outputs": [],
   "source": [
    "# 라이브러리 불러오기\n",
    "import pandas as pd"
   ]
  },
  {
   "cell_type": "code",
   "execution_count": 13,
   "metadata": {},
   "outputs": [
    {
     "data": {
      "text/html": [
       "<div>\n",
       "<style scoped>\n",
       "    .dataframe tbody tr th:only-of-type {\n",
       "        vertical-align: middle;\n",
       "    }\n",
       "\n",
       "    .dataframe tbody tr th {\n",
       "        vertical-align: top;\n",
       "    }\n",
       "\n",
       "    .dataframe thead th {\n",
       "        text-align: right;\n",
       "    }\n",
       "</style>\n",
       "<table border=\"1\" class=\"dataframe\">\n",
       "  <thead>\n",
       "    <tr style=\"text-align: right;\">\n",
       "      <th></th>\n",
       "      <th>name</th>\n",
       "      <th>url</th>\n",
       "    </tr>\n",
       "  </thead>\n",
       "  <tbody>\n",
       "    <tr>\n",
       "      <th>0</th>\n",
       "      <td>Google</td>\n",
       "      <td>https://www.google.com/</td>\n",
       "    </tr>\n",
       "    <tr>\n",
       "      <th>1</th>\n",
       "      <td>Naver</td>\n",
       "      <td>https://www.naver.com/</td>\n",
       "    </tr>\n",
       "    <tr>\n",
       "      <th>2</th>\n",
       "      <td>Daum</td>\n",
       "      <td>https://www.daum.net/</td>\n",
       "    </tr>\n",
       "  </tbody>\n",
       "</table>\n",
       "</div>"
      ],
      "text/plain": [
       "     name                      url\n",
       "0  Google  https://www.google.com/\n",
       "1   Naver   https://www.naver.com/\n",
       "2    Daum    https://www.daum.net/"
      ]
     },
     "execution_count": 13,
     "metadata": {},
     "output_type": "execute_result"
    }
   ],
   "source": [
    "# 샘플 dataframe 만들기\n",
    "sample_df=pd.DataFrame(data={'name': ['Google', 'Naver', 'Daum'], 'url' : ['https://www.google.com/', 'https://www.naver.com/', 'https://www.daum.net/']})\n",
    "sample_df"
   ]
  },
  {
   "cell_type": "code",
   "execution_count": 14,
   "metadata": {},
   "outputs": [
    {
     "name": "stdout",
     "output_type": "stream",
     "text": [
      "<table border=\"1\" class=\"dataframe\">\n",
      "  <thead>\n",
      "    <tr style=\"text-align: right;\">\n",
      "      <th></th>\n",
      "      <th>name</th>\n",
      "      <th>url</th>\n",
      "    </tr>\n",
      "  </thead>\n",
      "  <tbody>\n",
      "    <tr>\n",
      "      <th>0</th>\n",
      "      <td>Google</td>\n",
      "      <td>https://www.google.com/</td>\n",
      "    </tr>\n",
      "    <tr>\n",
      "      <th>1</th>\n",
      "      <td>Naver</td>\n",
      "      <td>https://www.naver.com/</td>\n",
      "    </tr>\n",
      "    <tr>\n",
      "      <th>2</th>\n",
      "      <td>Daum</td>\n",
      "      <td>https://www.daum.net/</td>\n",
      "    </tr>\n",
      "  </tbody>\n",
      "</table>\n"
     ]
    }
   ],
   "source": [
    "# html table로 변경하기\n",
    "sample_table=sample_df.to_html()\n",
    "print(sample_table)"
   ]
  },
  {
   "cell_type": "markdown",
   "metadata": {},
   "source": [
    "다음과 같이 성공적으로 dataframe이 table로 변환된 것을 볼 수 있다. 이 외에도 기타 옵션을 추가할 수 있다. "
   ]
  },
  {
   "cell_type": "code",
   "execution_count": 15,
   "metadata": {},
   "outputs": [
    {
     "name": "stdout",
     "output_type": "stream",
     "text": [
      "<table border=\"1\" class=\"dataframe\">\n",
      "  <thead>\n",
      "    <tr style=\"text-align: right;\">\n",
      "      <th>name</th>\n",
      "      <th>url</th>\n",
      "    </tr>\n",
      "  </thead>\n",
      "  <tbody>\n",
      "    <tr>\n",
      "      <td>Google</td>\n",
      "      <td>https://www.google.com/</td>\n",
      "    </tr>\n",
      "    <tr>\n",
      "      <td>Naver</td>\n",
      "      <td>https://www.naver.com/</td>\n",
      "    </tr>\n",
      "    <tr>\n",
      "      <td>Daum</td>\n",
      "      <td>https://www.daum.net/</td>\n",
      "    </tr>\n",
      "  </tbody>\n",
      "</table>\n"
     ]
    }
   ],
   "source": [
    "# index 열 없애기\n",
    "no_index_col = sample_df.to_html(index=False)\n",
    "print(no_index_col)"
   ]
  },
  {
   "cell_type": "code",
   "execution_count": 16,
   "metadata": {},
   "outputs": [
    {
     "name": "stdout",
     "output_type": "stream",
     "text": [
      "<table border=\"1\" class=\"dataframe\">\n",
      "  <thead>\n",
      "    <tr style=\"text-align: center;\">\n",
      "      <th></th>\n",
      "      <th>name</th>\n",
      "      <th>url</th>\n",
      "    </tr>\n",
      "  </thead>\n",
      "  <tbody>\n",
      "    <tr>\n",
      "      <th>0</th>\n",
      "      <td>Google</td>\n",
      "      <td>https://www.google.com/</td>\n",
      "    </tr>\n",
      "    <tr>\n",
      "      <th>1</th>\n",
      "      <td>Naver</td>\n",
      "      <td>https://www.naver.com/</td>\n",
      "    </tr>\n",
      "    <tr>\n",
      "      <th>2</th>\n",
      "      <td>Daum</td>\n",
      "      <td>https://www.daum.net/</td>\n",
      "    </tr>\n",
      "  </tbody>\n",
      "</table>\n"
     ]
    }
   ],
   "source": [
    "# 가운데 정렬하기\n",
    "center = sample_df.to_html(justify='center')\n",
    "print(center)"
   ]
  },
  {
   "cell_type": "markdown",
   "metadata": {},
   "source": [
    "옵션은 이뿐만이 아니다. 위의 url 열이 보이는가? 어떤 사람들은 웹페이지에서 이 표를 출력할 때, 해당 열의 주소에 하이퍼링크가 걸려 있기를 바랄 수도 있다. 그럴 경우 사용하는 편리한 옵션으로 **render_links**라는 것이 존재한다."
   ]
  },
  {
   "cell_type": "code",
   "execution_count": 17,
   "metadata": {},
   "outputs": [
    {
     "name": "stdout",
     "output_type": "stream",
     "text": [
      "<table border=\"1\" class=\"dataframe\">\n",
      "  <thead>\n",
      "    <tr style=\"text-align: right;\">\n",
      "      <th></th>\n",
      "      <th>name</th>\n",
      "      <th>url</th>\n",
      "    </tr>\n",
      "  </thead>\n",
      "  <tbody>\n",
      "    <tr>\n",
      "      <th>0</th>\n",
      "      <td>Google</td>\n",
      "      <td><a href=\"https://www.google.com/\" target=\"_blank\">https://www.google.com/</a></td>\n",
      "    </tr>\n",
      "    <tr>\n",
      "      <th>1</th>\n",
      "      <td>Naver</td>\n",
      "      <td><a href=\"https://www.naver.com/\" target=\"_blank\">https://www.naver.com/</a></td>\n",
      "    </tr>\n",
      "    <tr>\n",
      "      <th>2</th>\n",
      "      <td>Daum</td>\n",
      "      <td><a href=\"https://www.daum.net/\" target=\"_blank\">https://www.daum.net/</a></td>\n",
      "    </tr>\n",
      "  </tbody>\n",
      "</table>\n"
     ]
    }
   ],
   "source": [
    "# url에 하이퍼링크 추가하여 html table로 변환하기\n",
    "render_link=sample_df.to_html(render_links=True)\n",
    "print(render_link)"
   ]
  },
  {
   "cell_type": "markdown",
   "metadata": {},
   "source": [
    "보시다시피 url이 들어있는 table 열에 a 태그가 추가된 것을 볼 수 있다. default는 클릭 시 새창이 열리도록 되어 있다. 이 옵션을 넣을 때 하나 주의해야 하는 점이 있는데, 바로 https:가 붙지 않은 주소에는 링크가 걸리지 않는다는 것이다. 예시를 보자. "
   ]
  },
  {
   "cell_type": "code",
   "execution_count": 18,
   "metadata": {},
   "outputs": [
    {
     "data": {
      "text/html": [
       "<div>\n",
       "<style scoped>\n",
       "    .dataframe tbody tr th:only-of-type {\n",
       "        vertical-align: middle;\n",
       "    }\n",
       "\n",
       "    .dataframe tbody tr th {\n",
       "        vertical-align: top;\n",
       "    }\n",
       "\n",
       "    .dataframe thead th {\n",
       "        text-align: right;\n",
       "    }\n",
       "</style>\n",
       "<table border=\"1\" class=\"dataframe\">\n",
       "  <thead>\n",
       "    <tr style=\"text-align: right;\">\n",
       "      <th></th>\n",
       "      <th>name</th>\n",
       "      <th>url</th>\n",
       "    </tr>\n",
       "  </thead>\n",
       "  <tbody>\n",
       "    <tr>\n",
       "      <th>0</th>\n",
       "      <td>Google</td>\n",
       "      <td>www.google.com</td>\n",
       "    </tr>\n",
       "    <tr>\n",
       "      <th>1</th>\n",
       "      <td>Naver</td>\n",
       "      <td>www.naver.com</td>\n",
       "    </tr>\n",
       "    <tr>\n",
       "      <th>2</th>\n",
       "      <td>Daum</td>\n",
       "      <td>www.daum.net</td>\n",
       "    </tr>\n",
       "  </tbody>\n",
       "</table>\n",
       "</div>"
      ],
      "text/plain": [
       "     name             url\n",
       "0  Google  www.google.com\n",
       "1   Naver   www.naver.com\n",
       "2    Daum    www.daum.net"
      ]
     },
     "execution_count": 18,
     "metadata": {},
     "output_type": "execute_result"
    }
   ],
   "source": [
    "# 샘플 dataframe 만들기\n",
    "sample_df2=pd.DataFrame(data={'name': ['Google', 'Naver', 'Daum'], 'url' : ['www.google.com', 'www.naver.com', 'www.daum.net']})\n",
    "sample_df2"
   ]
  },
  {
   "cell_type": "code",
   "execution_count": 20,
   "metadata": {},
   "outputs": [
    {
     "name": "stdout",
     "output_type": "stream",
     "text": [
      "<table border=\"1\" class=\"dataframe\">\n",
      "  <thead>\n",
      "    <tr style=\"text-align: right;\">\n",
      "      <th></th>\n",
      "      <th>name</th>\n",
      "      <th>url</th>\n",
      "    </tr>\n",
      "  </thead>\n",
      "  <tbody>\n",
      "    <tr>\n",
      "      <th>0</th>\n",
      "      <td>Google</td>\n",
      "      <td>www.google.com</td>\n",
      "    </tr>\n",
      "    <tr>\n",
      "      <th>1</th>\n",
      "      <td>Naver</td>\n",
      "      <td>www.naver.com</td>\n",
      "    </tr>\n",
      "    <tr>\n",
      "      <th>2</th>\n",
      "      <td>Daum</td>\n",
      "      <td>www.daum.net</td>\n",
      "    </tr>\n",
      "  </tbody>\n",
      "</table>\n"
     ]
    }
   ],
   "source": [
    "# html table로 변환하기\n",
    "render_link2=sample_df2.to_html(render_links='True')\n",
    "print(render_link2)"
   ]
  },
  {
   "cell_type": "markdown",
   "metadata": {},
   "source": [
    "보다시피 a 태그가 추가되어 있지 않다. 사소한 것이지만 당황할 수도 있는 부분이니, 알아두면 좋을 것이다."
   ]
  },
  {
   "cell_type": "code",
   "execution_count": null,
   "metadata": {},
   "outputs": [],
   "source": []
  }
 ],
 "metadata": {
  "kernelspec": {
   "display_name": "Python 3",
   "language": "python",
   "name": "python3"
  },
  "language_info": {
   "codemirror_mode": {
    "name": "ipython",
    "version": 3
   },
   "file_extension": ".py",
   "mimetype": "text/x-python",
   "name": "python",
   "nbconvert_exporter": "python",
   "pygments_lexer": "ipython3",
   "version": "3.7.3"
  }
 },
 "nbformat": 4,
 "nbformat_minor": 2
}
